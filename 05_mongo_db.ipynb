{
 "cells": [
  {
   "cell_type": "code",
   "execution_count": 76,
   "metadata": {},
   "outputs": [],
   "source": [
    "# En mac\n",
    "# brew tap mongodb/brew\n",
    "# brew install mongodb-community\n",
    "# brew services start mongodb/brew/mongodb-community\n",
    "#\n",
    "# En ubuntu\n",
    "# https://hevodata.com/blog/install-mongodb-on-ubuntu/\n",
    "#\n",
    "# En windows\n",
    "# https://docs.mongodb.com/manual/tutorial/install-mongodb-on-windows/\n"
   ]
  },
  {
   "cell_type": "code",
   "execution_count": 114,
   "metadata": {},
   "outputs": [],
   "source": [
    "# Libreria\n",
    "# pip install pymongo"
   ]
  },
  {
   "cell_type": "code",
   "execution_count": 143,
   "metadata": {},
   "outputs": [],
   "source": [
    "import pymongo\n",
    "\n",
    "myclient = pymongo.MongoClient(\"mongodb://localhost:27017/\")\n",
    "\n",
    "mydb = myclient[\"aluar-test\"]"
   ]
  },
  {
   "cell_type": "code",
   "execution_count": 165,
   "metadata": {},
   "outputs": [],
   "source": [
    "myclient.drop_database('aluar_test')\n",
    "myclient.drop_database('aluar-test')"
   ]
  },
  {
   "cell_type": "code",
   "execution_count": 166,
   "metadata": {},
   "outputs": [
    {
     "name": "stdout",
     "output_type": "stream",
     "text": [
      "['admin', 'config', 'local']\n"
     ]
    }
   ],
   "source": [
    "print(myclient.list_database_names())"
   ]
  },
  {
   "cell_type": "code",
   "execution_count": 167,
   "metadata": {},
   "outputs": [
    {
     "name": "stdout",
     "output_type": "stream",
     "text": [
      "[]\n"
     ]
    }
   ],
   "source": [
    "print(mydb.list_collection_names())"
   ]
  },
  {
   "cell_type": "code",
   "execution_count": 168,
   "metadata": {},
   "outputs": [],
   "source": [
    "mydict = { \"name\": \"John\", \"address\": \"Highway 37\", \"age\": 33}"
   ]
  },
  {
   "cell_type": "code",
   "execution_count": 169,
   "metadata": {},
   "outputs": [
    {
     "data": {
      "text/plain": [
       "<pymongo.results.InsertOneResult at 0x108468640>"
      ]
     },
     "execution_count": 169,
     "metadata": {},
     "output_type": "execute_result"
    }
   ],
   "source": [
    "# No estructurada\n",
    "mydb.user.insert_one(mydict)"
   ]
  },
  {
   "cell_type": "code",
   "execution_count": 173,
   "metadata": {},
   "outputs": [
    {
     "name": "stdout",
     "output_type": "stream",
     "text": [
      "['user']\n"
     ]
    }
   ],
   "source": [
    "print(mydb.list_collection_names())"
   ]
  },
  {
   "cell_type": "code",
   "execution_count": 171,
   "metadata": {},
   "outputs": [],
   "source": [
    "mylist = [\n",
    "  { \"name\": \"Amy\", \"address\": \"Apple st 652\"},\n",
    "  { \"name\": \"Hannah\", \"address\": \"Mountain 21\"},\n",
    "  { \"name\": \"Michael\", \"address\": \"Valley 345\"},\n",
    "  { \"name\": \"Sandy\", \"address\": \"Ocean blvd 2\"},\n",
    "  { \"name\": \"Betty\", \"address\": \"Green Grass 1\"},\n",
    "  { \"name\": \"Richard\", \"address\": \"Sky st 331\"},\n",
    "  { \"name\": \"Susan\", \"address\": \"One way 98\"},\n",
    "  { \"name\": \"Vicky\", \"address\": \"Yellow Garden 2\"},\n",
    "  { \"name\": \"Ben\", \"address\": \"Park Lane 38\"},\n",
    "  { \"name\": \"William\", \"address\": \"Central st 954\"},\n",
    "  { \"name\": \"Chuck\", \"address\": \"Main Road 989\"},\n",
    "  { \"name\": \"Viola\", \"address\": \"Sideway 1633\"}\n",
    "]\n",
    "\n",
    "x = mydb.user.insert_many(mylist)"
   ]
  },
  {
   "cell_type": "code",
   "execution_count": 172,
   "metadata": {},
   "outputs": [
    {
     "name": "stderr",
     "output_type": "stream",
     "text": [
      "<ipython-input-172-b35da49c812c>:1: DeprecationWarning: count is deprecated. Use estimated_document_count or count_documents instead. Please note that $where must be replaced by $expr, $near must be replaced by $geoWithin with $center, and $nearSphere must be replaced by $geoWithin with $centerSphere\n",
      "  mydb.user.count()\n"
     ]
    },
    {
     "data": {
      "text/plain": [
       "13"
      ]
     },
     "execution_count": 172,
     "metadata": {},
     "output_type": "execute_result"
    }
   ],
   "source": [
    "mydb.user.count()"
   ]
  },
  {
   "cell_type": "code",
   "execution_count": 124,
   "metadata": {},
   "outputs": [
    {
     "name": "stdout",
     "output_type": "stream",
     "text": [
      "{'_id': ObjectId('5f3420de1542e35fa7d64fa9'), 'name': 'John', 'address': 'Highway 37', 'age': 33}\n",
      "{'_id': ObjectId('5f3420e01542e35fa7d64faa'), 'name': 'Amy', 'address': 'Apple st 652'}\n",
      "{'_id': ObjectId('5f3420e01542e35fa7d64fab'), 'name': 'Hannah', 'address': 'Mountain 21'}\n",
      "{'_id': ObjectId('5f3420e01542e35fa7d64fac'), 'name': 'Michael', 'address': 'Valley 345'}\n",
      "{'_id': ObjectId('5f3420e01542e35fa7d64fad'), 'name': 'Sandy', 'address': 'Ocean blvd 2'}\n",
      "{'_id': ObjectId('5f3420e01542e35fa7d64fae'), 'name': 'Betty', 'address': 'Green Grass 1'}\n",
      "{'_id': ObjectId('5f3420e01542e35fa7d64faf'), 'name': 'Richard', 'address': 'Sky st 331'}\n",
      "{'_id': ObjectId('5f3420e01542e35fa7d64fb0'), 'name': 'Susan', 'address': 'One way 98'}\n",
      "{'_id': ObjectId('5f3420e01542e35fa7d64fb1'), 'name': 'Vicky', 'address': 'Yellow Garden 2'}\n",
      "{'_id': ObjectId('5f3420e01542e35fa7d64fb2'), 'name': 'Ben', 'address': 'Park Lane 38'}\n",
      "{'_id': ObjectId('5f3420e01542e35fa7d64fb3'), 'name': 'William', 'address': 'Central st 954'}\n",
      "{'_id': ObjectId('5f3420e01542e35fa7d64fb4'), 'name': 'Chuck', 'address': 'Main Road 989'}\n",
      "{'_id': ObjectId('5f3420e01542e35fa7d64fb5'), 'name': 'Viola', 'address': 'Sideway 1633'}\n"
     ]
    }
   ],
   "source": [
    "for u in mydb.users.find():\n",
    "    print(u)"
   ]
  },
  {
   "cell_type": "code",
   "execution_count": 125,
   "metadata": {},
   "outputs": [
    {
     "name": "stdout",
     "output_type": "stream",
     "text": [
      "{'_id': ObjectId('5f3420de1542e35fa7d64fa9'), 'name': 'John', 'address': 'Highway 37', 'age': 33}\n"
     ]
    }
   ],
   "source": [
    "for u in mydb.users.find({'name': 'John'}):\n",
    "    print(u)"
   ]
  },
  {
   "cell_type": "code",
   "execution_count": 126,
   "metadata": {},
   "outputs": [
    {
     "name": "stdout",
     "output_type": "stream",
     "text": [
      "{'name': 'John', 'age': 33}\n",
      "{'name': 'Amy'}\n",
      "{'name': 'Hannah'}\n",
      "{'name': 'Michael'}\n",
      "{'name': 'Sandy'}\n",
      "{'name': 'Betty'}\n",
      "{'name': 'Richard'}\n",
      "{'name': 'Susan'}\n",
      "{'name': 'Vicky'}\n",
      "{'name': 'Ben'}\n",
      "{'name': 'William'}\n",
      "{'name': 'Chuck'}\n",
      "{'name': 'Viola'}\n"
     ]
    }
   ],
   "source": [
    "for u in mydb.users.find({}, { \"_id\": False, \"address\": False}):\n",
    "    print(u)"
   ]
  },
  {
   "cell_type": "code",
   "execution_count": 127,
   "metadata": {},
   "outputs": [
    {
     "name": "stdout",
     "output_type": "stream",
     "text": [
      "{'_id': ObjectId('5f3420e01542e35fa7d64fac'), 'name': 'Michael', 'address': 'Valley 345'}\n",
      "{'_id': ObjectId('5f3420e01542e35fa7d64faf'), 'name': 'Richard', 'address': 'Sky st 331'}\n",
      "{'_id': ObjectId('5f3420e01542e35fa7d64fb1'), 'name': 'Vicky', 'address': 'Yellow Garden 2'}\n",
      "{'_id': ObjectId('5f3420e01542e35fa7d64fb5'), 'name': 'Viola', 'address': 'Sideway 1633'}\n"
     ]
    }
   ],
   "source": [
    "myquery = { \"address\": { \"$gt\": \"S\" } }\n",
    "\n",
    "mydoc = mydb.users.find(myquery)\n",
    "\n",
    "for x in mydoc:\n",
    "  print(x)"
   ]
  },
  {
   "cell_type": "code",
   "execution_count": 99,
   "metadata": {},
   "outputs": [],
   "source": [
    "# mydb.users.drop()"
   ]
  },
  {
   "cell_type": "code",
   "execution_count": null,
   "metadata": {},
   "outputs": [],
   "source": []
  }
 ],
 "metadata": {
  "kernelspec": {
   "display_name": "Python 3",
   "language": "python",
   "name": "python3"
  },
  "language_info": {
   "codemirror_mode": {
    "name": "ipython",
    "version": 3
   },
   "file_extension": ".py",
   "mimetype": "text/x-python",
   "name": "python",
   "nbconvert_exporter": "python",
   "pygments_lexer": "ipython3",
   "version": "3.8.5"
  }
 },
 "nbformat": 4,
 "nbformat_minor": 4
}
